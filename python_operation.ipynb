{
 "cells": [
  {
   "cell_type": "markdown",
   "id": "d9802eee-b3a3-43e8-993c-1eff277114b8",
   "metadata": {},
   "source": [
    "### Advanced python features\n",
    "\n",
    "Topics to cover:\n",
    "- list comprehension\n",
    "- dict comprehension\n",
    "- lambda functions\n",
    "- async functions\n",
    "- itertools"
   ]
  },
  {
   "cell_type": "markdown",
   "id": "a864f2b5-0de4-45a1-8327-0d80228dec7b",
   "metadata": {},
   "source": [
    "#### 1: List comprehensions"
   ]
  },
  {
   "cell_type": "code",
   "execution_count": 6,
   "id": "925b1a3b-c379-49e8-9466-bec8a361b82d",
   "metadata": {},
   "outputs": [
    {
     "name": "stdout",
     "output_type": "stream",
     "text": [
      "15\n"
     ]
    }
   ],
   "source": [
    "# finding factorial of a a number\n",
    "def factorial(nums: int):\n",
    "    return sum([num for num in range(1, nums+1)])"
   ]
  },
  {
   "cell_type": "code",
   "execution_count": 12,
   "id": "e70820da-4794-4444-8104-d3462ef4a1e2",
   "metadata": {
    "tags": []
   },
   "outputs": [
    {
     "name": "stdout",
     "output_type": "stream",
     "text": [
      " [++] Total screentime for the day is : 13hours\n"
     ]
    }
   ],
   "source": [
    "# search a dict\n",
    "details = [\n",
    "    {\n",
    "    \"screen_time\" : 5,\n",
    "    \"app\" : \"Youtube\"\n",
    "    },\n",
    "    {\n",
    "    \"screen_time\" : 3,\n",
    "    \"app\" : \"Facebook\"\n",
    "    },\n",
    "    {\n",
    "    \"screen_time\" : 5,\n",
    "    \"app\" : \"VsCode\"\n",
    "    },\n",
    "]\n",
    "\n",
    "screentime = [detail[\"screen_time\"] for detail in details]\n",
    "# total screen time\n",
    "print(\" [++] Total screentime for the day is : {}hours\".format(sum(screentime)))"
   ]
  },
  {
   "cell_type": "markdown",
   "id": "d235ac1f-f337-4da5-9b54-dfe9840880b7",
   "metadata": {},
   "source": [
    "### 2: Dictionary comprehension"
   ]
  },
  {
   "cell_type": "code",
   "execution_count": 58,
   "id": "b79236ed-a8b6-4df8-8d7a-00eb8cced2ab",
   "metadata": {},
   "outputs": [
    {
     "ename": "SyntaxError",
     "evalue": "expression cannot contain assignment, perhaps you meant \"==\"? (3872654225.py, line 10)",
     "output_type": "error",
     "traceback": [
      "\u001b[0;36m  Cell \u001b[0;32mIn [58], line 10\u001b[0;36m\u001b[0m\n\u001b[0;31m    df = pd.DataFrame(new_dict, columns=new_dict.keys(), index.names=\"hours\" ,index=[len(screen_times)])\u001b[0m\n\u001b[0m                                                         ^\u001b[0m\n\u001b[0;31mSyntaxError\u001b[0m\u001b[0;31m:\u001b[0m expression cannot contain assignment, perhaps you meant \"==\"?\n"
     ]
    }
   ],
   "source": [
    "screen_times = [\"5\", \"3\", \"4\"]\n",
    "app_name = [\"Youtube\", \"Facebook\", \"VsCode\"]\n",
    "\n",
    "def create_dict(values_a, values_b):\n",
    "#     note thaat duplicates are not included avoid using this for data with duplicates despite the value\n",
    "    return {values_a[i]:values_b[i] for i in range(len(screen_times))}\n",
    "\n",
    "import pandas as pd\n",
    "new_dict = create_dict(screen_times, app_name)\n",
    "df = pd.DataFrame(new_dict, columns=new_dict.keys(), index.names=\"hours\", index=[len(screen_times)])\n",
    "df"
   ]
  },
  {
   "cell_type": "code",
   "execution_count": 46,
   "id": "87f0beb8-8f4b-45a0-9479-07d9c10be7b4",
   "metadata": {},
   "outputs": [
    {
     "data": {
      "text/html": [
       "<div>\n",
       "<style scoped>\n",
       "    .dataframe tbody tr th:only-of-type {\n",
       "        vertical-align: middle;\n",
       "    }\n",
       "\n",
       "    .dataframe tbody tr th {\n",
       "        vertical-align: top;\n",
       "    }\n",
       "\n",
       "    .dataframe thead th {\n",
       "        text-align: right;\n",
       "    }\n",
       "</style>\n",
       "<table border=\"1\" class=\"dataframe\">\n",
       "  <thead>\n",
       "    <tr style=\"text-align: right;\">\n",
       "      <th></th>\n",
       "      <th>0</th>\n",
       "      <th>1</th>\n",
       "      <th>2</th>\n",
       "      <th>3</th>\n",
       "      <th>4</th>\n",
       "      <th>5</th>\n",
       "      <th>6</th>\n",
       "      <th>7</th>\n",
       "      <th>8</th>\n",
       "      <th>9</th>\n",
       "    </tr>\n",
       "  </thead>\n",
       "  <tbody>\n",
       "    <tr>\n",
       "      <th>strand1</th>\n",
       "      <td>C</td>\n",
       "      <td>A</td>\n",
       "      <td>T</td>\n",
       "      <td>G</td>\n",
       "      <td>T</td>\n",
       "      <td>G</td>\n",
       "      <td>T</td>\n",
       "      <td>A</td>\n",
       "      <td>C</td>\n",
       "      <td>A</td>\n",
       "    </tr>\n",
       "    <tr>\n",
       "      <th>strand2</th>\n",
       "      <td>G</td>\n",
       "      <td>T</td>\n",
       "      <td>A</td>\n",
       "      <td>C</td>\n",
       "      <td>A</td>\n",
       "      <td>C</td>\n",
       "      <td>A</td>\n",
       "      <td>T</td>\n",
       "      <td>G</td>\n",
       "      <td>T</td>\n",
       "    </tr>\n",
       "  </tbody>\n",
       "</table>\n",
       "</div>"
      ],
      "text/plain": [
       "         0  1  2  3  4  5  6  7  8  9\n",
       "strand1  C  A  T  G  T  G  T  A  C  A\n",
       "strand2  G  T  A  C  A  C  A  T  G  T"
      ]
     },
     "execution_count": 46,
     "metadata": {},
     "output_type": "execute_result"
    }
   ],
   "source": [
    "# creating a dna strand\n",
    "def dna():\n",
    "    \n",
    "    import random\n",
    "    \n",
    "    bases = [\"A\", \"T\", \"C\", \"G\"]\n",
    "    strand = random.choices(bases, k=10)\n",
    "    \n",
    "    dna = {key:[val, \n",
    "                (\"T\" if val == \"A\" else \"A\" if val == \"T\" else \"C\" if val == \"G\" else \"G\")\n",
    "               ] \n",
    "           for (key, val) in enumerate(strand)}\n",
    "    \n",
    "    \n",
    "    import pandas as pd\n",
    "    frame = pd.DataFrame(dna, index=[\"strand1\", \"strand2\"])\n",
    "    \n",
    "    return frame\n",
    "\n",
    "dna()"
   ]
  }
 ],
 "metadata": {
  "kernelspec": {
   "display_name": "Python 3 (ipykernel)",
   "language": "python",
   "name": "python3"
  },
  "language_info": {
   "codemirror_mode": {
    "name": "ipython",
    "version": 3
   },
   "file_extension": ".py",
   "mimetype": "text/x-python",
   "name": "python",
   "nbconvert_exporter": "python",
   "pygments_lexer": "ipython3",
   "version": "3.9.12"
  }
 },
 "nbformat": 4,
 "nbformat_minor": 5
}
